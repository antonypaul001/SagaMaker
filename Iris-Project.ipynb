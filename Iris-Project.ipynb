{
 "cells": [
  {
   "cell_type": "markdown",
   "id": "d48e7a15",
   "metadata": {},
   "source": [
    "# Data Preparation"
   ]
  },
  {
   "cell_type": "code",
   "execution_count": 2,
   "id": "63266f6c",
   "metadata": {},
   "outputs": [
    {
     "data": {
      "text/plain": [
       "('data.zip', <http.client.HTTPMessage at 0x7f8f8fe12740>)"
      ]
     },
     "execution_count": 2,
     "metadata": {},
     "output_type": "execute_result"
    }
   ],
   "source": [
    "import urllib.request\n",
    "urllib.request.urlretrieve('https://archive.ics.uci.edu/static/public/53/iris.zip', 'data.zip')"
   ]
  },
  {
   "cell_type": "code",
   "execution_count": null,
   "id": "c94023ee",
   "metadata": {},
   "outputs": [],
   "source": [
    "import urllib.request\n",
    "urllib.request.urlretrieve('https://archive.ics.uci.edu/static/public/53/iris.zip', 'data.zip')"
   ]
  },
  {
   "cell_type": "code",
   "execution_count": 3,
   "id": "a38fdcc2",
   "metadata": {},
   "outputs": [
    {
     "name": "stdout",
     "output_type": "stream",
     "text": [
      "Archive:  data.zip\r\n",
      "  inflating: data/Index              \r\n",
      "  inflating: data/bezdekIris.data    \r\n",
      "  inflating: data/iris.data          \r\n",
      "  inflating: data/iris.names         \r\n"
     ]
    }
   ],
   "source": [
    "!mkdir data\n",
    "!unzip data.zip -d data/"
   ]
  },
  {
   "cell_type": "code",
   "execution_count": 24,
   "id": "e2f167c5",
   "metadata": {},
   "outputs": [
    {
     "name": "stdout",
     "output_type": "stream",
     "text": [
      "       0    1    2    3               4\n",
      "0    5.1  3.5  1.4  0.2     Iris-setosa\n",
      "1    4.9  3.0  1.4  0.2     Iris-setosa\n",
      "2    4.7  3.2  1.3  0.2     Iris-setosa\n",
      "3    4.6  3.1  1.5  0.2     Iris-setosa\n",
      "4    5.0  3.6  1.4  0.2     Iris-setosa\n",
      "..   ...  ...  ...  ...             ...\n",
      "145  6.7  3.0  5.2  2.3  Iris-virginica\n",
      "146  6.3  2.5  5.0  1.9  Iris-virginica\n",
      "147  6.5  3.0  5.2  2.0  Iris-virginica\n",
      "148  6.2  3.4  5.4  2.3  Iris-virginica\n",
      "149  5.9  3.0  5.1  1.8  Iris-virginica\n",
      "\n",
      "[150 rows x 5 columns]\n",
      "     4    0    1    2    3\n",
      "0    2  6.2  2.2  4.5  1.5\n",
      "1    2  6.1  2.9  4.7  1.4\n",
      "2    2  6.1  2.8  4.7  1.2\n",
      "3    0  5.0  3.2  1.2  0.2\n",
      "4    2  5.6  3.0  4.1  1.3\n",
      "..  ..  ...  ...  ...  ...\n",
      "145  1  6.9  3.1  5.4  2.1\n",
      "146  0  5.1  3.5  1.4  0.3\n",
      "147  2  5.1  2.5  3.0  1.1\n",
      "148  0  5.1  3.5  1.4  0.2\n",
      "149  2  6.9  3.1  4.9  1.5\n",
      "\n",
      "[150 rows x 5 columns]\n"
     ]
    },
    {
     "name": "stderr",
     "output_type": "stream",
     "text": [
      "/tmp/ipykernel_10273/272034610.py:8: FutureWarning: Downcasting behavior in `replace` is deprecated and will be removed in a future version. To retain the old behavior, explicitly call `result.infer_objects(copy=False)`. To opt-in to the future behavior, set `pd.set_option('future.no_silent_downcasting', True)`\n",
      "  data[4] = data[4].replace('Iris-versicolor' , 2)\n"
     ]
    }
   ],
   "source": [
    "#read data\n",
    "import pandas as pd\n",
    "data = pd.read_csv('data/iris.data', header=None)\n",
    "# convert to numerical data\n",
    "print(data)\n",
    "data[4] = data[4].replace('Iris-setosa' , 0)\n",
    "data[4] = data[4].replace('Iris-virginica' , 1)\n",
    "data[4] = data[4].replace('Iris-versicolor' , 2)\n",
    "#print(data)\n",
    "#shuffle\n",
    "data = data.sample(frac=1).reset_index(drop=True)\n",
    "\n",
    "# change label column index\n",
    "\n",
    "data = data[[4, 0, 1, 2, 3]]\n",
    "print(data)\n",
    "\n",
    "#  split train data\n",
    "# 80% train data\n",
    "# 20% validation data\n",
    "train_data = data[:120]\n",
    "val_data = data[:120]"
   ]
  },
  {
   "cell_type": "markdown",
   "id": "e4e2ddcc",
   "metadata": {},
   "source": [
    "# Move data to s3"
   ]
  },
  {
   "cell_type": "code",
   "execution_count": 27,
   "id": "493a8cf4",
   "metadata": {},
   "outputs": [],
   "source": [
    "import boto3\n",
    "bucket_name =  'sagemaker-us-east-1-676887225963'\n",
    "\n",
    "train_data.to_csv('data.csv', header=False, index=False)\n",
    "key = 'data/train/data'\n",
    "url = 's3://{}/{}'.format(bucket_name, key)\n",
    "boto3.Session().resource('s3').Bucket(bucket_name).Object(key).upload_file('data.csv')\n",
    "\n",
    "val_data.to_csv('data.csv', header=False, index=False)\n",
    "key = 'data/val/data'\n",
    "url = 's3://{}/{}'.format(bucket_name, key)\n",
    "boto3.Session().resource('s3').Bucket(bucket_name).Object(key).upload_file('data.csv')"
   ]
  },
  {
   "cell_type": "markdown",
   "id": "e8f5035a",
   "metadata": {},
   "source": [
    "# Create Model"
   ]
  },
  {
   "cell_type": "code",
   "execution_count": 39,
   "id": "bec28f65",
   "metadata": {},
   "outputs": [
    {
     "name": "stderr",
     "output_type": "stream",
     "text": [
      "WARNING:sagemaker.deprecations:The method get_image_uri has been renamed in sagemaker>=2.\n",
      "See: https://sagemaker.readthedocs.io/en/stable/v2.html for details.\n",
      "INFO:sagemaker.image_uris:Ignoring unnecessary instance type: None.\n",
      "WARNING:sagemaker.deprecations:train_instance_count has been renamed in sagemaker>=2.\n",
      "See: https://sagemaker.readthedocs.io/en/stable/v2.html for details.\n",
      "WARNING:sagemaker.deprecations:train_instance_type has been renamed in sagemaker>=2.\n",
      "See: https://sagemaker.readthedocs.io/en/stable/v2.html for details.\n",
      "WARNING:sagemaker.deprecations:train_volume_size has been renamed in sagemaker>=2.\n",
      "See: https://sagemaker.readthedocs.io/en/stable/v2.html for details.\n"
     ]
    }
   ],
   "source": [
    "import sagemaker\n",
    "from sagemaker.amazon.amazon_estimator  import get_image_uri\n",
    "from  sagemaker import get_execution_role\n",
    "key = 'model/xgb_model'\n",
    "s3_output_location = url = 's3://{}/{}'.format(bucket_name, key)\n",
    "\n",
    "xgb_model = sagemaker.estimator.Estimator(\n",
    "     get_image_uri(boto3.Session().region_name, 'xgboost'),\n",
    "     get_execution_role(),\n",
    "     train_instance_count =1,\n",
    "     train_instance_type='ml.m4.xlarge', \n",
    "     train_volume_size=5,\n",
    "     output_path=s3_output_location,\n",
    "     sagemaker_session=sagemaker.Session()\n",
    ")\n",
    "\n",
    "xgb_model.set_hyperparameters(max_depth=5,\n",
    "                          eta=0.2,\n",
    "                          gama=4,\n",
    "                          min_child_weight=6,\n",
    "                          silent=0,\n",
    "                          objective='multi:softmax',\n",
    "                          num_class=3,\n",
    "                          num_round=10)"
   ]
  },
  {
   "cell_type": "markdown",
   "id": "3f869021",
   "metadata": {},
   "source": [
    "# Train Model"
   ]
  },
  {
   "cell_type": "code",
   "execution_count": 40,
   "id": "2f6be0ae",
   "metadata": {},
   "outputs": [
    {
     "name": "stderr",
     "output_type": "stream",
     "text": [
      "WARNING:sagemaker.deprecations:The class sagemaker.session.s3_input has been renamed in sagemaker>=2.\n",
      "See: https://sagemaker.readthedocs.io/en/stable/v2.html for details.\n",
      "WARNING:sagemaker.deprecations:The class sagemaker.session.s3_input has been renamed in sagemaker>=2.\n",
      "See: https://sagemaker.readthedocs.io/en/stable/v2.html for details.\n",
      "INFO:sagemaker:Creating training-job with name: xgboost-2024-05-02-21-42-16-746\n"
     ]
    },
    {
     "name": "stdout",
     "output_type": "stream",
     "text": [
      "2024-05-02 21:42:16 Starting - Starting the training job...\n",
      "2024-05-02 21:42:33 Starting - Preparing the instances for training...\n",
      "2024-05-02 21:43:14 Downloading - Downloading input data...\n",
      "2024-05-02 21:43:47 Downloading - Downloading the training image......\n",
      "2024-05-02 21:44:43 Training - Training image download completed. Training in progress.\n",
      "2024-05-02 21:44:43 Uploading - Uploading generated training model\u001b[34mArguments: train\u001b[0m\n",
      "\u001b[34m[2024-05-02:21:44:36:INFO] Running standalone xgboost training.\u001b[0m\n",
      "\u001b[34m[2024-05-02:21:44:36:INFO] File size need to be processed in the node: 0.0mb. Available memory size in the node: 8481.77mb\u001b[0m\n",
      "\u001b[34m[2024-05-02:21:44:36:INFO] Determined delimiter of CSV input is ','\u001b[0m\n",
      "\u001b[34m[21:44:36] S3DistributionType set as FullyReplicated\u001b[0m\n",
      "\u001b[34m[21:44:36] 120x4 matrix with 480 entries loaded from /opt/ml/input/data/train?format=csv&label_column=0&delimiter=,\u001b[0m\n",
      "\u001b[34m[2024-05-02:21:44:36:INFO] Determined delimiter of CSV input is ','\u001b[0m\n",
      "\u001b[34m[21:44:36] S3DistributionType set as FullyReplicated\u001b[0m\n",
      "\u001b[34m[21:44:36] 120x4 matrix with 480 entries loaded from /opt/ml/input/data/validation?format=csv&label_column=0&delimiter=,\u001b[0m\n",
      "\u001b[34m[21:44:36] src/tree/updater_prune.cc:74: tree pruning end, 1 roots, 2 extra nodes, 0 pruned nodes, max_depth=1\u001b[0m\n",
      "\u001b[34m[21:44:36] src/tree/updater_prune.cc:74: tree pruning end, 1 roots, 2 extra nodes, 0 pruned nodes, max_depth=1\u001b[0m\n",
      "\u001b[34m[21:44:36] src/tree/updater_prune.cc:74: tree pruning end, 1 roots, 4 extra nodes, 0 pruned nodes, max_depth=2\u001b[0m\n",
      "\u001b[34m[0]#011train-merror:0.025#011validation-merror:0.025\u001b[0m\n",
      "\u001b[34m[21:44:36] src/tree/updater_prune.cc:74: tree pruning end, 1 roots, 2 extra nodes, 0 pruned nodes, max_depth=1\u001b[0m\n",
      "\u001b[34m[21:44:36] src/tree/updater_prune.cc:74: tree pruning end, 1 roots, 2 extra nodes, 0 pruned nodes, max_depth=1\u001b[0m\n",
      "\u001b[34m[21:44:36] src/tree/updater_prune.cc:74: tree pruning end, 1 roots, 4 extra nodes, 0 pruned nodes, max_depth=2\u001b[0m\n",
      "\u001b[34m[1]#011train-merror:0.025#011validation-merror:0.025\u001b[0m\n",
      "\u001b[34m[21:44:36] src/tree/updater_prune.cc:74: tree pruning end, 1 roots, 2 extra nodes, 0 pruned nodes, max_depth=1\u001b[0m\n",
      "\u001b[34m[21:44:36] src/tree/updater_prune.cc:74: tree pruning end, 1 roots, 2 extra nodes, 0 pruned nodes, max_depth=1\u001b[0m\n",
      "\u001b[34m[21:44:36] src/tree/updater_prune.cc:74: tree pruning end, 1 roots, 4 extra nodes, 0 pruned nodes, max_depth=2\u001b[0m\n",
      "\u001b[34m[2]#011train-merror:0.025#011validation-merror:0.025\u001b[0m\n",
      "\u001b[34m[21:44:36] src/tree/updater_prune.cc:74: tree pruning end, 1 roots, 2 extra nodes, 0 pruned nodes, max_depth=1\u001b[0m\n",
      "\u001b[34m[21:44:36] src/tree/updater_prune.cc:74: tree pruning end, 1 roots, 2 extra nodes, 0 pruned nodes, max_depth=1\u001b[0m\n",
      "\u001b[34m[21:44:36] src/tree/updater_prune.cc:74: tree pruning end, 1 roots, 4 extra nodes, 0 pruned nodes, max_depth=2\u001b[0m\n",
      "\u001b[34m[3]#011train-merror:0.025#011validation-merror:0.025\u001b[0m\n",
      "\u001b[34m[21:44:36] src/tree/updater_prune.cc:74: tree pruning end, 1 roots, 2 extra nodes, 0 pruned nodes, max_depth=1\u001b[0m\n",
      "\u001b[34m[21:44:36] src/tree/updater_prune.cc:74: tree pruning end, 1 roots, 2 extra nodes, 0 pruned nodes, max_depth=1\u001b[0m\n",
      "\u001b[34m[21:44:36] src/tree/updater_prune.cc:74: tree pruning end, 1 roots, 4 extra nodes, 0 pruned nodes, max_depth=2\u001b[0m\n",
      "\u001b[34m[4]#011train-merror:0.033333#011validation-merror:0.033333\u001b[0m\n",
      "\u001b[34m[21:44:36] src/tree/updater_prune.cc:74: tree pruning end, 1 roots, 2 extra nodes, 0 pruned nodes, max_depth=1\u001b[0m\n",
      "\u001b[34m[21:44:36] src/tree/updater_prune.cc:74: tree pruning end, 1 roots, 2 extra nodes, 0 pruned nodes, max_depth=1\u001b[0m\n",
      "\u001b[34m[21:44:36] src/tree/updater_prune.cc:74: tree pruning end, 1 roots, 6 extra nodes, 0 pruned nodes, max_depth=3\u001b[0m\n",
      "\u001b[34m[5]#011train-merror:0.025#011validation-merror:0.025\u001b[0m\n",
      "\u001b[34m[21:44:36] src/tree/updater_prune.cc:74: tree pruning end, 1 roots, 2 extra nodes, 0 pruned nodes, max_depth=1\u001b[0m\n",
      "\u001b[34m[21:44:36] src/tree/updater_prune.cc:74: tree pruning end, 1 roots, 4 extra nodes, 0 pruned nodes, max_depth=2\u001b[0m\n",
      "\u001b[34m[21:44:36] src/tree/updater_prune.cc:74: tree pruning end, 1 roots, 4 extra nodes, 0 pruned nodes, max_depth=2\u001b[0m\n",
      "\u001b[34m[6]#011train-merror:0.033333#011validation-merror:0.033333\u001b[0m\n",
      "\u001b[34m[21:44:36] src/tree/updater_prune.cc:74: tree pruning end, 1 roots, 2 extra nodes, 0 pruned nodes, max_depth=1\u001b[0m\n",
      "\u001b[34m[21:44:36] src/tree/updater_prune.cc:74: tree pruning end, 1 roots, 4 extra nodes, 0 pruned nodes, max_depth=2\u001b[0m\n",
      "\u001b[34m[21:44:36] src/tree/updater_prune.cc:74: tree pruning end, 1 roots, 6 extra nodes, 0 pruned nodes, max_depth=3\u001b[0m\n",
      "\u001b[34m[7]#011train-merror:0.033333#011validation-merror:0.033333\u001b[0m\n",
      "\u001b[34m[21:44:36] src/tree/updater_prune.cc:74: tree pruning end, 1 roots, 2 extra nodes, 0 pruned nodes, max_depth=1\u001b[0m\n",
      "\u001b[34m[21:44:36] src/tree/updater_prune.cc:74: tree pruning end, 1 roots, 2 extra nodes, 0 pruned nodes, max_depth=1\u001b[0m\n",
      "\u001b[34m[21:44:36] src/tree/updater_prune.cc:74: tree pruning end, 1 roots, 4 extra nodes, 0 pruned nodes, max_depth=2\u001b[0m\n",
      "\u001b[34m[8]#011train-merror:0.033333#011validation-merror:0.033333\u001b[0m\n",
      "\u001b[34m[21:44:36] src/tree/updater_prune.cc:74: tree pruning end, 1 roots, 2 extra nodes, 0 pruned nodes, max_depth=1\u001b[0m\n",
      "\u001b[34m[21:44:36] src/tree/updater_prune.cc:74: tree pruning end, 1 roots, 2 extra nodes, 0 pruned nodes, max_depth=1\u001b[0m\n",
      "\u001b[34m[21:44:36] src/tree/updater_prune.cc:74: tree pruning end, 1 roots, 4 extra nodes, 0 pruned nodes, max_depth=2\u001b[0m\n",
      "\u001b[34m[9]#011train-merror:0.033333#011validation-merror:0.033333\u001b[0m\n",
      "\n",
      "2024-05-02 21:44:59 Completed - Training job completed\n",
      "Training seconds: 107\n",
      "Billable seconds: 107\n"
     ]
    }
   ],
   "source": [
    "train_data = 's3://{}/{}'.format(bucket_name, 'data/train')\n",
    "val_data = 's3://{}/{}'.format(bucket_name, 'data/val')\n",
    "train_channel = sagemaker.session.s3_input(train_data, content_type='text/csv')\n",
    "val_channel = sagemaker.session.s3_input(val_data, content_type='text/csv')\n",
    "data_channels = { 'train': train_channel, 'validation': val_channel}\n",
    "xgb_model.fit(inputs=data_channels)\n"
   ]
  },
  {
   "cell_type": "markdown",
   "id": "faf0240c",
   "metadata": {},
   "source": [
    "# Deploy Model"
   ]
  },
  {
   "cell_type": "code",
   "execution_count": 41,
   "id": "b749ff9a",
   "metadata": {},
   "outputs": [
    {
     "name": "stderr",
     "output_type": "stream",
     "text": [
      "INFO:sagemaker:Creating model with name: xgboost-2024-05-02-21-51-28-886\n",
      "INFO:sagemaker:Creating endpoint-config with name xgboost-2024-05-02-21-51-28-886\n",
      "INFO:sagemaker:Creating endpoint with name xgboost-2024-05-02-21-51-28-886\n"
     ]
    },
    {
     "name": "stdout",
     "output_type": "stream",
     "text": [
      "-----!"
     ]
    }
   ],
   "source": [
    "xgb_predictor = xgb_model.deploy(initial_instance_count=1,\n",
    "                                instance_type='ml.m4.xlarge')"
   ]
  },
  {
   "cell_type": "code",
   "execution_count": null,
   "id": "fd161df9",
   "metadata": {},
   "outputs": [],
   "source": []
  }
 ],
 "metadata": {
  "kernelspec": {
   "display_name": "conda_python3",
   "language": "python",
   "name": "conda_python3"
  },
  "language_info": {
   "codemirror_mode": {
    "name": "ipython",
    "version": 3
   },
   "file_extension": ".py",
   "mimetype": "text/x-python",
   "name": "python",
   "nbconvert_exporter": "python",
   "pygments_lexer": "ipython3",
   "version": "3.10.14"
  }
 },
 "nbformat": 4,
 "nbformat_minor": 5
}
